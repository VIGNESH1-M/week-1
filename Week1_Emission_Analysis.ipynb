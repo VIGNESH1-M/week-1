# 1. Import Libraries
import pandas as pd
import matplotlib.pyplot as plt
import seaborn as sns

# 2. Load Dataset
df = pd.read_csv("SupplyChainEmissionFactorsforUSIndustriesCommodities2015_Summary.csv")

# 3. View first few rows
df.head()

# 4. Check column names
print(df.columns)

# 5. Clean Data

# Drop rows with null values in the target column
df_cleaned = df.dropna(subset=['Supply Chain Emission Factors with Margins'])

# Remove duplicates
df_cleaned = df_cleaned.drop_duplicates()

# 6. Sort and visualize top 10 industries with highest emissions
top10 = df_cleaned.sort_values(by='Supply Chain Emission Factors with Margins', ascending=False).head(10)

plt.figure(figsize=(12, 6))
sns.barplot(x='Supply Chain Emission Factors with Margins', y='Industry', data=top10)
plt.title('Top 10 Industries by Emission Factors')
plt.xlabel('Emission Factors (kg CO2 per $)')
plt.ylabel('Industry')
plt.tight_layout()
plt.show()

# 7. Plot Histogram of emission distribution
plt.figure(figsize=(10, 5))
sns.histplot(df_cleaned['Supply Chain Emission Factors with Margins'], bins=30, kde=True)
plt.title('Distribution of Emission Factors')
plt.xlabel('Emission Factors (kg CO2 per $)')
plt.ylabel('Frequency')
plt.tight_layout()
plt.show()
